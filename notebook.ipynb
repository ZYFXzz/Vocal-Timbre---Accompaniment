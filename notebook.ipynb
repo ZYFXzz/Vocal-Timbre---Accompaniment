{
 "cells": [
  {
   "cell_type": "markdown",
   "metadata": {},
   "source": [
    "# Introduction\n",
    "This is a test notebook for idea proofing of my current thesis idea on elevating current Singing VOice synthesis system. It is investigating how vocal timbre(dynamics, tension.......etc) relates to changes in its accompaniment.\n",
    "\n",
    "Other notes/inspiration :\n",
    "0. the idea first started as the broad goal -  to add more expression to current SVS system. I tried to narrowed it down throughout the first month of this fall semester, what I come up with, is try use an accompaniment, as another source of controls. The interface for music production/ music generation is evolving today, a notable advancement is new natural language interface with Large Language Models like GPT. Some latest research of music generation incorporates audio as another source for model interference/controls. I was thinking about things like this, is to use audio as a control source for SVS. \n",
    "\n",
    "1. In many published SVS research, the evaluation is subjective listening test on naturalness of the synthesized sounds. Human tester were usually given some clips, around 10s each, to evaluate the naturalness of the voice, and may compare it to a ground truth human singing.\n",
    "\n",
    "2. However, in contrast to point 1 above, generating 2-3 minutes of singing voice is more likely to happen instead of 10s clips.In most user cases, a user(music producer) may want to generate singing for a full-length song that lasts for 2-4 minutes. As a long-time user of SVS applications, sometimes it felt short for me when generating expressive vocal that aligns with emotions/dynamics of the accompaniment. \n",
    "\n",
    "3. SVS has continuing development of industrial application, Yamaha has released VOCALOID together with Music Technology Group from UPF, Spain. The interface still looks similar from the first day it came out, which includes a piano roll for midi and lyrics input, and a curve parameter window for advanced user controls. It has been a headache for both inputting basic midi plus lyrics info and drawing those curved parameters for users. It is potentially part of the reason why Vocaloid and similar software did not gain large interest from users. People who mainly use it during production are producers from Japan. \n",
    "\n",
    "3. It is notable in an music ensemble environment, or any sort of music collaboration that involves multiple human player or instruments\n",
    "\n",
    "4. The current thesis idea, as by today 10/16/2024, is to automate the curve parameter (energy/tension) available in OpenUtau Editor with DiffSinger singing voice model, based on the RMS level of an accompaniment track. \n",
    "\n",
    "5. To support the idea of point 4, this notebook or repo serves to explore the possible relationship in between singing and accompaniment, by looking at some available music dataset with available stems. "
   ]
  },
  {
   "cell_type": "markdown",
   "metadata": {},
   "source": [
    "# For this exploration, following tools/dataset will be used:\n",
    "\n",
    "- **mirdata** - for easy working with dataset like medley-DB\n",
    "\n",
    "- **librosa** - for all audio processing, feature extractions\n",
    "\n",
    "- **Medley DB** - the audio source\n",
    "\n",
    "**some codes are copied directly from homework of this semester course - Music Information Retrieval, as those notebook provide good example of working with tools and data in notebook and python environment**"
   ]
  },
  {
   "cell_type": "markdown",
   "metadata": {},
   "source": []
  },
  {
   "cell_type": "code",
   "execution_count": 7,
   "metadata": {},
   "outputs": [],
   "source": [
    "import mir_eval\n",
    "import mirdata\n",
    "import numpy as np\n",
    "import librosa"
   ]
  },
  {
   "cell_type": "code",
   "execution_count": 1,
   "metadata": {},
   "outputs": [
    {
     "name": "stdout",
     "output_type": "stream",
     "text": [
      "Defaulting to user installation because normal site-packages is not writeable\n",
      "Requirement already satisfied: stempeg in c:\\users\\x1305\\appdata\\roaming\\python\\python310\\site-packages (0.2.3)\n",
      "Requirement already satisfied: numpy>=1.6 in c:\\programdata\\anaconda3\\envs\\downgrade\\lib\\site-packages (from stempeg) (1.26.4)\n",
      "Requirement already satisfied: ffmpeg-python>=0.2.0 in c:\\users\\x1305\\appdata\\roaming\\python\\python310\\site-packages (from stempeg) (0.2.0)\n",
      "Requirement already satisfied: future in c:\\programdata\\anaconda3\\envs\\downgrade\\lib\\site-packages (from ffmpeg-python>=0.2.0->stempeg) (1.0.0)\n",
      "Defaulting to user installation because normal site-packages is not writeable\n",
      "Requirement already satisfied: musdb in c:\\users\\x1305\\appdata\\roaming\\python\\python310\\site-packages (0.4.2)\n",
      "Requirement already satisfied: numpy>=1.7 in c:\\programdata\\anaconda3\\envs\\downgrade\\lib\\site-packages (from musdb) (1.26.4)\n",
      "Requirement already satisfied: stempeg>=0.2.3 in c:\\users\\x1305\\appdata\\roaming\\python\\python310\\site-packages (from musdb) (0.2.3)\n",
      "Requirement already satisfied: pyaml in c:\\users\\x1305\\appdata\\roaming\\python\\python310\\site-packages (from musdb) (24.9.0)\n",
      "Requirement already satisfied: tqdm in c:\\programdata\\anaconda3\\envs\\downgrade\\lib\\site-packages (from musdb) (4.66.4)\n",
      "Requirement already satisfied: ffmpeg-python>=0.2.0 in c:\\users\\x1305\\appdata\\roaming\\python\\python310\\site-packages (from stempeg>=0.2.3->musdb) (0.2.0)\n",
      "Requirement already satisfied: PyYAML in c:\\programdata\\anaconda3\\envs\\downgrade\\lib\\site-packages (from pyaml->musdb) (6.0.1)\n",
      "Requirement already satisfied: colorama in c:\\programdata\\anaconda3\\envs\\downgrade\\lib\\site-packages (from tqdm->musdb) (0.4.6)\n",
      "Requirement already satisfied: future in c:\\programdata\\anaconda3\\envs\\downgrade\\lib\\site-packages (from ffmpeg-python>=0.2.0->stempeg>=0.2.3->musdb) (1.0.0)\n"
     ]
    },
    {
     "ename": "RuntimeError",
     "evalue": "ffmpeg or ffprobe could not be found! Please install them before using stempeg. See: https://github.com/faroit/stempeg",
     "output_type": "error",
     "traceback": [
      "\u001b[1;31m---------------------------------------------------------------------------\u001b[0m",
      "\u001b[1;31mRuntimeError\u001b[0m                              Traceback (most recent call last)",
      "Cell \u001b[1;32mIn[1], line 3\u001b[0m\n\u001b[0;32m      1\u001b[0m get_ipython()\u001b[38;5;241m.\u001b[39msystem(\u001b[38;5;124m'\u001b[39m\u001b[38;5;124mpip install stempeg\u001b[39m\u001b[38;5;124m'\u001b[39m)\n\u001b[0;32m      2\u001b[0m get_ipython()\u001b[38;5;241m.\u001b[39msystem(\u001b[38;5;124m'\u001b[39m\u001b[38;5;124mpip install musdb\u001b[39m\u001b[38;5;124m'\u001b[39m)\n\u001b[1;32m----> 3\u001b[0m \u001b[38;5;28;01mimport\u001b[39;00m \u001b[38;5;21;01mmusdb\u001b[39;00m\n",
      "File \u001b[1;32m~\\AppData\\Roaming\\Python\\Python310\\site-packages\\musdb\\__init__.py:1\u001b[0m\n\u001b[1;32m----> 1\u001b[0m \u001b[38;5;28;01mfrom\u001b[39;00m \u001b[38;5;21;01m.\u001b[39;00m\u001b[38;5;21;01maudio_classes\u001b[39;00m \u001b[38;5;28;01mimport\u001b[39;00m MultiTrack, Source, Target\n\u001b[0;32m      2\u001b[0m \u001b[38;5;28;01mfrom\u001b[39;00m \u001b[38;5;21;01mos\u001b[39;00m \u001b[38;5;28;01mimport\u001b[39;00m path \u001b[38;5;28;01mas\u001b[39;00m op\n\u001b[0;32m      3\u001b[0m \u001b[38;5;28;01mfrom\u001b[39;00m \u001b[38;5;21;01mpathlib\u001b[39;00m \u001b[38;5;28;01mimport\u001b[39;00m Path\n",
      "File \u001b[1;32m~\\AppData\\Roaming\\Python\\Python310\\site-packages\\musdb\\audio_classes.py:3\u001b[0m\n\u001b[0;32m      1\u001b[0m \u001b[38;5;28;01mimport\u001b[39;00m \u001b[38;5;21;01mos\u001b[39;00m\n\u001b[0;32m      2\u001b[0m \u001b[38;5;28;01mimport\u001b[39;00m \u001b[38;5;21;01mnumpy\u001b[39;00m \u001b[38;5;28;01mas\u001b[39;00m \u001b[38;5;21;01mnp\u001b[39;00m\n\u001b[1;32m----> 3\u001b[0m \u001b[38;5;28;01mimport\u001b[39;00m \u001b[38;5;21;01mstempeg\u001b[39;00m\n\u001b[0;32m      6\u001b[0m \u001b[38;5;28;01mclass\u001b[39;00m \u001b[38;5;21;01mTrack\u001b[39;00m(\u001b[38;5;28mobject\u001b[39m):\n\u001b[0;32m      7\u001b[0m \u001b[38;5;250m    \u001b[39m\u001b[38;5;124;03m\"\"\"\u001b[39;00m\n\u001b[0;32m      8\u001b[0m \u001b[38;5;124;03m    Generic audio Track that can be wav or stem file\u001b[39;00m\n\u001b[0;32m      9\u001b[0m \n\u001b[1;32m   (...)\u001b[0m\n\u001b[0;32m     29\u001b[0m \u001b[38;5;124;03m        sets duration for the audio, defaults to ``None`` (end).\u001b[39;00m\n\u001b[0;32m     30\u001b[0m \u001b[38;5;124;03m    \"\"\"\u001b[39;00m\n",
      "File \u001b[1;32m~\\AppData\\Roaming\\Python\\Python310\\site-packages\\stempeg\\__init__.py:16\u001b[0m\n\u001b[0;32m      1\u001b[0m \u001b[38;5;66;03m# flake8: noqa\u001b[39;00m\n\u001b[0;32m      2\u001b[0m \u001b[38;5;124;03m\"\"\"\u001b[39;00m\n\u001b[0;32m      3\u001b[0m \u001b[38;5;124;03mStempeg is a python package to read and write [STEM](https://www.native-instruments.com/en/specials/stems/) files.\u001b[39;00m\n\u001b[0;32m      4\u001b[0m \u001b[38;5;124;03mTechnically, stems are audio containers that combine multiple audio streams and metadata in a single audio file. This makes it ideal to playback multitrack audio, where users can select the audio sub-stream during playback (e.g. supported by VLC). \u001b[39;00m\n\u001b[1;32m   (...)\u001b[0m\n\u001b[0;32m     13\u001b[0m \u001b[38;5;124;03mPlease checkout [the Github repository](https://github.com/faroit/stempeg) for more information.\u001b[39;00m\n\u001b[0;32m     14\u001b[0m \u001b[38;5;124;03m\"\"\"\u001b[39;00m\n\u001b[1;32m---> 16\u001b[0m \u001b[38;5;28;01mfrom\u001b[39;00m \u001b[38;5;21;01m.\u001b[39;00m\u001b[38;5;21;01mread\u001b[39;00m \u001b[38;5;28;01mimport\u001b[39;00m read_stems\n\u001b[0;32m     17\u001b[0m \u001b[38;5;28;01mfrom\u001b[39;00m \u001b[38;5;21;01m.\u001b[39;00m\u001b[38;5;21;01mread\u001b[39;00m \u001b[38;5;28;01mimport\u001b[39;00m Info\n\u001b[0;32m     18\u001b[0m \u001b[38;5;28;01mfrom\u001b[39;00m \u001b[38;5;21;01m.\u001b[39;00m\u001b[38;5;21;01mread\u001b[39;00m \u001b[38;5;28;01mimport\u001b[39;00m StreamsReader, ChannelsReader\n",
      "File \u001b[1;32m~\\AppData\\Roaming\\Python\\Python310\\site-packages\\stempeg\\read.py:7\u001b[0m\n\u001b[0;32m      1\u001b[0m \u001b[38;5;66;03m# flake8: noqa\u001b[39;00m\n\u001b[0;32m      2\u001b[0m \u001b[38;5;124;03m\"\"\"\u001b[39;00m\n\u001b[0;32m      3\u001b[0m \u001b[38;5;124;03mWriting module to load stems into numpy tensors.\u001b[39;00m\n\u001b[0;32m      4\u001b[0m \n\u001b[0;32m      5\u001b[0m \n\u001b[0;32m      6\u001b[0m \u001b[38;5;124;03m\"\"\"\u001b[39;00m\n\u001b[1;32m----> 7\u001b[0m \u001b[38;5;28;01mfrom\u001b[39;00m \u001b[38;5;21;01mstempeg\u001b[39;00m\u001b[38;5;21;01m.\u001b[39;00m\u001b[38;5;21;01mwrite\u001b[39;00m \u001b[38;5;28;01mimport\u001b[39;00m FilesWriter\n\u001b[0;32m      8\u001b[0m \u001b[38;5;28;01mimport\u001b[39;00m \u001b[38;5;21;01mnumpy\u001b[39;00m \u001b[38;5;28;01mas\u001b[39;00m \u001b[38;5;21;01mnp\u001b[39;00m\n\u001b[0;32m      9\u001b[0m \u001b[38;5;28;01mimport\u001b[39;00m \u001b[38;5;21;01mwarnings\u001b[39;00m\n",
      "File \u001b[1;32m~\\AppData\\Roaming\\Python\\Python310\\site-packages\\stempeg\\write.py:23\u001b[0m\n\u001b[0;32m     19\u001b[0m \u001b[38;5;28;01mimport\u001b[39;00m \u001b[38;5;21;01mnumpy\u001b[39;00m \u001b[38;5;28;01mas\u001b[39;00m \u001b[38;5;21;01mnp\u001b[39;00m\n\u001b[0;32m     21\u001b[0m \u001b[38;5;28;01mimport\u001b[39;00m \u001b[38;5;21;01mstempeg\u001b[39;00m\n\u001b[1;32m---> 23\u001b[0m \u001b[38;5;28;01mfrom\u001b[39;00m \u001b[38;5;21;01m.\u001b[39;00m\u001b[38;5;21;01mcmds\u001b[39;00m \u001b[38;5;28;01mimport\u001b[39;00m FFMPEG_PATH, mp4box_exists, get_aac_codec, find_cmd\n\u001b[0;32m     26\u001b[0m \u001b[38;5;28;01mdef\u001b[39;00m \u001b[38;5;21m_build_channel_map\u001b[39m(nb_stems, nb_channels, stem_names\u001b[38;5;241m=\u001b[39m\u001b[38;5;28;01mNone\u001b[39;00m):\n\u001b[0;32m     27\u001b[0m \u001b[38;5;250m    \u001b[39m\u001b[38;5;124;03m\"\"\"Creates an ffmpeg complex filter string\u001b[39;00m\n\u001b[0;32m     28\u001b[0m \n\u001b[0;32m     29\u001b[0m \u001b[38;5;124;03m    The filter is designed to multiplex multiple stems into\u001b[39;00m\n\u001b[1;32m   (...)\u001b[0m\n\u001b[0;32m     46\u001b[0m \u001b[38;5;124;03m        complex_filter: str\u001b[39;00m\n\u001b[0;32m     47\u001b[0m \u001b[38;5;124;03m    \"\"\"\u001b[39;00m\n",
      "File \u001b[1;32m~\\AppData\\Roaming\\Python\\Python310\\site-packages\\stempeg\\cmds.py:43\u001b[0m\n\u001b[0;32m     39\u001b[0m     \u001b[38;5;28;01mreturn\u001b[39;00m MP4BOX_PATH \u001b[38;5;129;01mis\u001b[39;00m \u001b[38;5;129;01mnot\u001b[39;00m \u001b[38;5;28;01mNone\u001b[39;00m\n\u001b[0;32m     42\u001b[0m \u001b[38;5;28;01mif\u001b[39;00m \u001b[38;5;129;01mnot\u001b[39;00m ffmpeg_and_ffprobe_exists():\n\u001b[1;32m---> 43\u001b[0m     \u001b[38;5;28;01mraise\u001b[39;00m \u001b[38;5;167;01mRuntimeError\u001b[39;00m(\n\u001b[0;32m     44\u001b[0m         \u001b[38;5;124m'\u001b[39m\u001b[38;5;124mffmpeg or ffprobe could not be found! \u001b[39m\u001b[38;5;124m'\u001b[39m\n\u001b[0;32m     45\u001b[0m         \u001b[38;5;124m'\u001b[39m\u001b[38;5;124mPlease install them before using stempeg. \u001b[39m\u001b[38;5;124m'\u001b[39m\n\u001b[0;32m     46\u001b[0m         \u001b[38;5;124m'\u001b[39m\u001b[38;5;124mSee: https://github.com/faroit/stempeg\u001b[39m\u001b[38;5;124m'\u001b[39m\n\u001b[0;32m     47\u001b[0m     )\n\u001b[0;32m     50\u001b[0m \u001b[38;5;28;01mdef\u001b[39;00m \u001b[38;5;21mcheck_available_aac_encoders\u001b[39m():\n\u001b[0;32m     51\u001b[0m \u001b[38;5;250m    \u001b[39m\u001b[38;5;124;03m\"\"\"Returns the available AAC encoders\u001b[39;00m\n\u001b[0;32m     52\u001b[0m \n\u001b[0;32m     53\u001b[0m \u001b[38;5;124;03m    Returns:\u001b[39;00m\n\u001b[0;32m     54\u001b[0m \u001b[38;5;124;03m        list(str): List of available encoder codecs from ffmpeg\u001b[39;00m\n\u001b[0;32m     55\u001b[0m \n\u001b[0;32m     56\u001b[0m \u001b[38;5;124;03m    \"\"\"\u001b[39;00m\n",
      "\u001b[1;31mRuntimeError\u001b[0m: ffmpeg or ffprobe could not be found! Please install them before using stempeg. See: https://github.com/faroit/stempeg"
     ]
    }
   ],
   "source": [
    "!pip install stempeg\n",
    "!pip install musdb\n",
    "import musdb"
   ]
  },
  {
   "cell_type": "code",
   "execution_count": 8,
   "metadata": {},
   "outputs": [],
   "source": [
    "# basic setups\n",
    "\n",
    "# This two lines of code make your notebook aware of changes in\n",
    "# your utils.py file without needing to restart the session each time\n",
    "%load_ext autoreload\n",
    "%autoreload 2\n",
    "\n",
    "import utils as u"
   ]
  },
  {
   "cell_type": "code",
   "execution_count": 4,
   "metadata": {},
   "outputs": [
    {
     "name": "stdout",
     "output_type": "stream",
     "text": [
      "['acousticbrainz_genre', 'baf', 'beatles', 'beatport_key', 'billboard', 'candombe', 'cante100', 'cipi', 'compmusic_carnatic_rhythm', 'compmusic_carnatic_varnam', 'compmusic_hindustani_rhythm', 'compmusic_indian_tonic', 'compmusic_jingju_acappella', 'compmusic_otmm_makam', 'compmusic_raga', 'da_tacos', 'dagstuhl_choirset', 'dali', 'egfxset', 'filosax', 'four_way_tabla', 'freesound_one_shot_percussive_sounds', 'giantsteps_key', 'giantsteps_tempo', 'good_sounds', 'groove_midi', 'gtzan_genre', 'guitarset', 'haydn_op20', 'idmt_smt_audio_effects', 'ikala', 'irmas', 'maestro', 'medley_solos_db', 'medleydb_melody', 'medleydb_pitch', 'mridangam_stroke', 'mtg_jamendo_autotagging_moodtheme', 'openmic2018', 'orchset', 'phenicx_anechoic', 'queen', 'rwc_classical', 'rwc_jazz', 'rwc_popular', 'salami', 'saraga_carnatic', 'saraga_hindustani', 'scms', 'slakh', 'tinysol', 'tonality_classicaldb', 'tonas', 'vocadito']\n"
     ]
    }
   ],
   "source": [
    "print(mirdata.list_datasets())"
   ]
  },
  {
   "cell_type": "code",
   "execution_count": 6,
   "metadata": {},
   "outputs": [],
   "source": [
    "medley = mirdata.initialize('medleydb_pitch')"
   ]
  },
  {
   "cell_type": "code",
   "execution_count": null,
   "metadata": {},
   "outputs": [],
   "source": []
  }
 ],
 "metadata": {
  "kernelspec": {
   "display_name": "downgrade",
   "language": "python",
   "name": "python3"
  },
  "language_info": {
   "codemirror_mode": {
    "name": "ipython",
    "version": 3
   },
   "file_extension": ".py",
   "mimetype": "text/x-python",
   "name": "python",
   "nbconvert_exporter": "python",
   "pygments_lexer": "ipython3",
   "version": "3.10.14"
  }
 },
 "nbformat": 4,
 "nbformat_minor": 2
}
